{
 "cells": [
  {
   "cell_type": "code",
   "execution_count": 1,
   "metadata": {
    "collapsed": false
   },
   "outputs": [],
   "source": [
    "%matplotlib inline\n",
    "\n",
    "#for seaborn issue:\n",
    "import warnings\n",
    "warnings.filterwarnings(\"ignore\")\n",
    "\n",
    "import pandas as pd\n",
    "import numpy as np\n",
    "from scipy import stats\n",
    "import sklearn as sk\n",
    "import itertools\n",
    "import matplotlib.pyplot as plt\n",
    "import matplotlib.gridspec as gridspec\n",
    "import seaborn as sns\n",
    "from statsmodels.graphics.mosaicplot import mosaic"
   ]
  },
  {
   "cell_type": "code",
   "execution_count": 2,
   "metadata": {
    "collapsed": false
   },
   "outputs": [],
   "source": [
    "train_df = pd.read_csv('train.csv')\n",
    "test_df = pd.read_csv('test.csv')\n",
    "combine = [train_df, test_df]\n",
    "#-------------------------------------------------------------\n",
    "for dataset in combine:\n",
    "    dataset['Title'] = dataset['Name'].str.extract('([A-Za-z]+)\\.', expand=False)\n",
    "#-------------------------------------------------------------\n",
    "test_df['Fare'].iloc[152] = 8.4765\n",
    "#--------------------------------------------------------------------------------------------\n",
    "for dataset in combine:\n",
    "    dataset['Surname'] = dataset['Name'].str.extract('([A-Za-z]+)\\,', expand=False)\n",
    "    dataset['Fare'] = dataset['Fare'].astype(int)\n",
    "#---------------------------------------------------------------\n",
    "train_df['Title'].iloc[796] = 'Mrs'\n",
    "#---------------------------------------------------------------------------\n",
    "for dataset in combine:\n",
    "    dataset['Title'] = dataset['Title'].replace(['Don', 'Rev', 'Dr','Major','Sir','Col', 'Capt','Jonkheer'],'Mr')\n",
    "    dataset['Title'] = dataset['Title'].replace(['Lady','Ms','Countess'],'Mrs')\n",
    "    dataset['Title'] = dataset['Title'].replace(['Mlle','Mme','Dona',],'Miss')\n",
    "#-----------------------------------------------------------------------------------------\n",
    "train_df['Embarked'] = train_df['Embarked'].fillna('S')\n",
    "#train_df['Embarked'] = train_df['Embarked'].replace('NaN',-99999)\n",
    "#-----------------------------------------------------------------------------------------\n",
    "\n",
    "for dataset in combine:\n",
    "    dataset['Age'] = dataset.groupby(['Pclass','Embarked','Sex'])['Age'].transform(lambda x: x.fillna(x.mean()))\n",
    "#train_df['Age'] = train_df['Age'].replace('NaN',-99999)\n",
    "#test_df['Age'] = test_df['Age'].replace('NaN',-99999)\n",
    "combine = [train_df,test_df]\n",
    "#--------------------------------------------------------------------------------------------------\n",
    "train_df['Age'] = train_df['Age'].astype(int)\n",
    "test_df['Age'] = test_df['Age'].astype(int)\n",
    "combine = [train_df,test_df]\n",
    "\n",
    "#--------------------------------------------------------------------------------------------------------------\n",
    "for dataset in combine:\n",
    "    dataset['Title'] = dataset['Title'].map({'Mr': 3,'Master': 1,'Miss': 2,'Mrs': 4})\n",
    "    dataset['Sex'] = dataset['Sex'].map({'male': 1,'female': 0})\n",
    "    dataset['Embarked'] = dataset['Embarked'].map({'S': 1,'C': 2,'Q': 3})\n",
    "#-------------------------------------------------------------------------------------------------\n",
    "for dataset in combine:\n",
    "    dataset['Family'] = dataset['SibSp'] + dataset['Parch']\n",
    "#-----------------------------------------------------------------------------------------------------------\n",
    "b = pd.get_dummies(train_df['Family'], 'Family')\n",
    "train_df['Alone'] = b.Family_0\n",
    "k = pd.get_dummies(test_df['Family'], 'Family')\n",
    "test_df['Alone'] = k.Family_0\n",
    "#-------------------------------------------------------------------------------------------------------------------\n",
    "for dataset in combine:    \n",
    "    dataset.loc[ dataset['Age'] <= 16, 'Age'] = 0\n",
    "    dataset.loc[(dataset['Age'] > 16) & (dataset['Age'] <= 32), 'Age'] = 1\n",
    "    dataset.loc[(dataset['Age'] > 32) & (dataset['Age'] <= 48), 'Age'] = 2\n",
    "    dataset.loc[(dataset['Age'] > 48) & (dataset['Age'] <= 64), 'Age'] = 3\n",
    "    dataset.loc[ dataset['Age'] > 64, 'Age'] = 4\n",
    "#-------------------------------------------------------------------------------------------------------------\n",
    "#changing Mr. to Master for boys less than 14 years of age in train data\n",
    "train_df['Title'].iloc[731] = 1\n",
    "train_df['Title'].iloc[683] = 1\n",
    "train_df['Title'].iloc[686] = 1\n",
    "#changing Mr. to Master for boys less than 14 years of age in test data\n",
    "test_df['Title'].iloc[5] = 1\n",
    "test_df['Title'].iloc[230] = 1\n",
    "#changing Master. to Mr. for men more than or equal to 15 years of age in train data\n",
    "train_df['Title'].iloc[65] = 3\n",
    "train_df['Title'].iloc[159] = 3\n",
    "train_df['Title'].iloc[176] = 3\n",
    "train_df['Title'].iloc[709] = 3\n",
    "#changing Master. to Mr. for men more than or equal to 15 years of age in test data\n",
    "test_df['Title'].iloc[244] = 3\n",
    "test_df['Title'].iloc[339] = 3\n",
    "test_df['Title'].iloc[334] = 3\n",
    "test_df['Title'].iloc[417] = 3\n",
    "#change Mrs. into Miss. for girls less than 15 years in train\n",
    "train_df['Title'].iloc[9] = 2\n",
    "train_df['Title'].iloc[19] = 2\n",
    "train_df['Title'].iloc[140] = 2\n",
    "train_df['Title'].iloc[367] = 2\n",
    "train_df['Title'].iloc[533] = 2\n",
    "train_df['Title'].iloc[578] = 2\n",
    "train_df['Title'].iloc[830] = 2\n",
    "# no value in Test\n",
    "#------------------------------------------------------------------------------------------------\n",
    "for dataset in combine:\n",
    "    dataset.loc[dataset['Fare']<= 7,'Fare'] = 0\n",
    "    dataset.loc[(dataset['Fare'] > 7) & (dataset['Fare'] <= 14) ,'Fare'] = 1\n",
    "    dataset.loc[(dataset['Fare'] > 14) & (dataset['Fare'] <= 31) ,'Fare'] = 2 \n",
    "    dataset.loc[(dataset['Fare'] > 31) & (dataset['Fare'] <= 512) ,'Fare'] = 3\n",
    "    \n",
    "#-----------------------------------------------------------------------------------------\n",
    "for dataset in combine:\n",
    "    dataset.loc[(dataset['Family'] == 0),'Family'] = 0\n",
    "    dataset.loc[(dataset['Family'] == 1),'Family'] = 1\n",
    "    dataset.loc[(dataset['Family'] == 2),'Family'] = 2\n",
    "    dataset.loc[(dataset['Family'] == 3),'Family'] = 3\n",
    "    dataset.loc[(dataset['Family'] >= 4),'Family'] = 4\n",
    "#---------------------------------------------------------------------------------------------------\n",
    "for dataset in combine:\n",
    "    dataset.loc[(dataset['Title'] == 3),'Title'] = 0\n",
    "    dataset.loc[(dataset['Title'] == 1),'Title'] = 1\n",
    "    dataset.loc[(dataset['Title'] == 2),'Title'] = 2\n",
    "    dataset.loc[(dataset['Title'] == 4),'Title'] = 2\n",
    "#-------------------------------------------------------------------------------------------------\n",
    "train_df['AgexPclass'] = train_df['Age']*train_df['Pclass']\n",
    "test_df['AgexPclass'] = test_df['Age']*test_df['Pclass']\n",
    "#train_df['FamFare'] = train_df['Family']*train_df['Fare']\n",
    "#test_df['FamFare'] = test_df['Family']*test_df['Fare']\n",
    "train_df = train_df.drop(['PassengerId','Name','Ticket','Cabin','Surname','Fare','Family','Embarked','SibSp','Age'],axis = 1)\n",
    "test_df = test_df.drop(['PassengerId','Name','Ticket','Cabin','Surname','Fare','Family','Embarked','SibSp','Age'],axis = 1)\n",
    "combine = [train_df, test_df]\n",
    "#------------------------------------------------------------------------------------------------\n",
    "#for dataset in combine:\n",
    "#    dataset.loc[(dataset['FamFare'] == 1),'FamFare'] = 0\n",
    "#    dataset.loc[(dataset['FamFare'] == 2),'FamFare'] = 0\n",
    "#    dataset.loc[(dataset['FamFare'] == 3),'FamFare'] = 1\n",
    "#    dataset.loc[(dataset['FamFare'] == 4),'FamFare'] = 1\n",
    "#    dataset.loc[(dataset['FamFare'] == 6),'FamFare'] = 1\n",
    "#    dataset.loc[(dataset['FamFare'] == 9),'FamFare'] = 1\n",
    "#    dataset.loc[(dataset['FamFare'] == 8),'FamFare'] = 0\n",
    "#    dataset.loc[(dataset['FamFare'] == 12),'FamFare'] = 0\n",
    "\n",
    "#--------------------------------------------------------------------------------------------------\n",
    "for dataset in combine:\n",
    "    dataset.loc[(dataset['AgexPclass'] == 0),'AgexPclass'] = 2\n",
    "    dataset.loc[(dataset['AgexPclass'] == 8),'AgexPclass'] = 12\n",
    "    dataset.loc[(dataset['AgexPclass'] == 6),'AgexPclass'] = 9\n",
    "\n",
    "#--------------------------------------------------------------------------------------------------\n",
    "#for dataset in combine:\n",
    "#    dataset.loc[(dataset['SibSp'] == 5),'SibSp'] = 8\n",
    "#    dataset.loc[(dataset['SibSp'] == 1),'SibSp'] = 2\n",
    "#-----------------------------------------------------------------------------------------------    \n",
    "#for dataset in combine:\n",
    "#    dataset.loc[(dataset['Parch'] == 4),'Parch'] = 6\n",
    "#    dataset.loc[(dataset['Parch'] == 1),'Parch'] = 2   "
   ]
  },
  {
   "cell_type": "code",
   "execution_count": 118,
   "metadata": {
    "collapsed": false
   },
   "outputs": [
    {
     "data": {
      "text/html": [
       "<div>\n",
       "<table border=\"1\" class=\"dataframe\">\n",
       "  <thead>\n",
       "    <tr style=\"text-align: right;\">\n",
       "      <th></th>\n",
       "      <th>Survived</th>\n",
       "      <th>Pclass</th>\n",
       "      <th>Sex</th>\n",
       "      <th>Parch</th>\n",
       "      <th>Title</th>\n",
       "      <th>Alone</th>\n",
       "      <th>AgexPclass</th>\n",
       "    </tr>\n",
       "  </thead>\n",
       "  <tbody>\n",
       "    <tr>\n",
       "      <th>0</th>\n",
       "      <td>0</td>\n",
       "      <td>3</td>\n",
       "      <td>1</td>\n",
       "      <td>0</td>\n",
       "      <td>0</td>\n",
       "      <td>0</td>\n",
       "      <td>3</td>\n",
       "    </tr>\n",
       "    <tr>\n",
       "      <th>1</th>\n",
       "      <td>1</td>\n",
       "      <td>1</td>\n",
       "      <td>0</td>\n",
       "      <td>0</td>\n",
       "      <td>2</td>\n",
       "      <td>0</td>\n",
       "      <td>2</td>\n",
       "    </tr>\n",
       "    <tr>\n",
       "      <th>2</th>\n",
       "      <td>1</td>\n",
       "      <td>3</td>\n",
       "      <td>0</td>\n",
       "      <td>0</td>\n",
       "      <td>2</td>\n",
       "      <td>1</td>\n",
       "      <td>3</td>\n",
       "    </tr>\n",
       "    <tr>\n",
       "      <th>3</th>\n",
       "      <td>1</td>\n",
       "      <td>1</td>\n",
       "      <td>0</td>\n",
       "      <td>0</td>\n",
       "      <td>2</td>\n",
       "      <td>0</td>\n",
       "      <td>2</td>\n",
       "    </tr>\n",
       "    <tr>\n",
       "      <th>4</th>\n",
       "      <td>0</td>\n",
       "      <td>3</td>\n",
       "      <td>1</td>\n",
       "      <td>0</td>\n",
       "      <td>0</td>\n",
       "      <td>1</td>\n",
       "      <td>9</td>\n",
       "    </tr>\n",
       "  </tbody>\n",
       "</table>\n",
       "</div>"
      ],
      "text/plain": [
       "   Survived  Pclass  Sex  Parch  Title  Alone  AgexPclass\n",
       "0         0       3    1      0      0      0           3\n",
       "1         1       1    0      0      2      0           2\n",
       "2         1       3    0      0      2      1           3\n",
       "3         1       1    0      0      2      0           2\n",
       "4         0       3    1      0      0      1           9"
      ]
     },
     "execution_count": 118,
     "metadata": {},
     "output_type": "execute_result"
    }
   ],
   "source": [
    "train_df.head()"
   ]
  },
  {
   "cell_type": "code",
   "execution_count": 4,
   "metadata": {
    "collapsed": false
   },
   "outputs": [],
   "source": [
    "surv_table = pd.read_csv('surv.csv')\n",
    "surv_table = surv_table.drop(['PassengerId'], axis = 1)\n",
    "new_train = train_df\n",
    "new_test = test_df\n",
    "x = np.array(new_train.drop(['Survived'],axis = 1))\n",
    "y = np.array(new_train['Survived'])"
   ]
  },
  {
   "cell_type": "code",
   "execution_count": 6,
   "metadata": {
    "collapsed": false
   },
   "outputs": [
    {
     "name": "stdout",
     "output_type": "stream",
     "text": [
      "(891, 6)\n",
      "(891,)\n"
     ]
    }
   ],
   "source": [
    "print (x.shape)\n",
    "print (y.shape)"
   ]
  },
  {
   "cell_type": "markdown",
   "metadata": {},
   "source": [
    "## k nearest neighbour "
   ]
  },
  {
   "cell_type": "code",
   "execution_count": 44,
   "metadata": {
    "collapsed": false
   },
   "outputs": [
    {
     "name": "stdout",
     "output_type": "stream",
     "text": [
      "Accuracy of the model is: 94.98 Percent\n"
     ]
    }
   ],
   "source": [
    "from sklearn import cross_validation,neighbors\n",
    "#x_train, x_test, y_train, y_test = cross_validation.train_test_split(x, y, test_size = 0.2, random_state = 1)\n",
    "clf = neighbors.KNeighborsClassifier(n_neighbors=10,weights='uniform')\n",
    "clf.fit(x,y)\n",
    "acc = clf.score(new_test,surv_table)\n",
    "print ('Accuracy of the model is:',round(acc*100,2), 'Percent')"
   ]
  },
  {
   "cell_type": "code",
   "execution_count": 41,
   "metadata": {
    "collapsed": false
   },
   "outputs": [],
   "source": [
    "#weit = ['uniform','distance']\n",
    "#algo = ['ball_tree', 'kd_tree']\n",
    "#leaf = [10,20,30,250,300,400]\n",
    "njob = [1,-1]\n",
    "#score =[]\n",
    "for k in njob:\n",
    "    cf = neighbors.KNeighborsClassifier(n_jobs=k)\n",
    "    cf.fit(x,y)\n",
    "    acc = cf.score(new_test,surv_table)\n",
    "    score.append(cf.score(new_test,surv_table))\n",
    "    #print (k,acc)\n",
    "\n",
    "#plt.plot(njob,score)\n",
    "#plt.hlines(xmax=26,xmin=-1,linestyles='solid',y=np.max(score),colors='r')\n",
    "#plt.show()    "
   ]
  },
  {
   "cell_type": "markdown",
   "metadata": {},
   "source": [
    "## Logistic Regression"
   ]
  },
  {
   "cell_type": "code",
   "execution_count": 38,
   "metadata": {
    "collapsed": false
   },
   "outputs": [
    {
     "name": "stdout",
     "output_type": "stream",
     "text": [
      "Accuracy of the model is: 95.93 Percent\n"
     ]
    },
    {
     "data": {
      "text/html": [
       "<div>\n",
       "<table border=\"1\" class=\"dataframe\">\n",
       "  <thead>\n",
       "    <tr style=\"text-align: right;\">\n",
       "      <th></th>\n",
       "      <th>Feature</th>\n",
       "      <th>Correlation</th>\n",
       "    </tr>\n",
       "  </thead>\n",
       "  <tbody>\n",
       "    <tr>\n",
       "      <th>3</th>\n",
       "      <td>Title</td>\n",
       "      <td>1.939449</td>\n",
       "    </tr>\n",
       "    <tr>\n",
       "      <th>1</th>\n",
       "      <td>Sex</td>\n",
       "      <td>0.907090</td>\n",
       "    </tr>\n",
       "    <tr>\n",
       "      <th>4</th>\n",
       "      <td>Alone</td>\n",
       "      <td>-0.014580</td>\n",
       "    </tr>\n",
       "    <tr>\n",
       "      <th>5</th>\n",
       "      <td>AgexPclass</td>\n",
       "      <td>-0.133244</td>\n",
       "    </tr>\n",
       "    <tr>\n",
       "      <th>2</th>\n",
       "      <td>Parch</td>\n",
       "      <td>-0.283624</td>\n",
       "    </tr>\n",
       "    <tr>\n",
       "      <th>0</th>\n",
       "      <td>Pclass</td>\n",
       "      <td>-0.914789</td>\n",
       "    </tr>\n",
       "  </tbody>\n",
       "</table>\n",
       "</div>"
      ],
      "text/plain": [
       "      Feature  Correlation\n",
       "3       Title     1.939449\n",
       "1         Sex     0.907090\n",
       "4       Alone    -0.014580\n",
       "5  AgexPclass    -0.133244\n",
       "2       Parch    -0.283624\n",
       "0      Pclass    -0.914789"
      ]
     },
     "execution_count": 38,
     "metadata": {},
     "output_type": "execute_result"
    }
   ],
   "source": [
    "#na_train_x = np.array(train_df[['Pclass','Title','Sex','Alone','Pclass','Alone','AgexPclass']])\n",
    "#na_train_y = np.array(train_df['Survived'])\n",
    "#na_test_x = np.array(test_df[['Pclass','Title','Sex','Alone','Pclass','Alone','AgexPclass']])\n",
    "from sklearn import linear_model\n",
    "r = linear_model.LogisticRegression()\n",
    "r.fit(x,y)\n",
    "a = r.score(new_test,surv_table)\n",
    "print ('Accuracy of the model is:',round(a*100,2), 'Percent')\n",
    "coeff_df = pd.DataFrame(new_train.columns.delete(0))\n",
    "coeff_df.columns = ['Feature']\n",
    "coeff_df[\"Correlation\"] = pd.Series(r.coef_[0])\n",
    "coeff_df.sort_values(by='Correlation', ascending=False)"
   ]
  },
  {
   "cell_type": "markdown",
   "metadata": {},
   "source": [
    "## Support vector mechanics "
   ]
  },
  {
   "cell_type": "code",
   "execution_count": 40,
   "metadata": {
    "collapsed": false
   },
   "outputs": [
    {
     "name": "stdout",
     "output_type": "stream",
     "text": [
      "Accuracy of the model is: 91.87 Percent\n"
     ]
    }
   ],
   "source": [
    "#na_train_x = np.array(train_df[['Pclass']])\n",
    "#na_train_y = np.array(train_df['Survived'])\n",
    "#na_test_x = np.array(test_df[['Pclass']])\n",
    "from sklearn import svm\n",
    "svc = svm.SVC() \n",
    "svc.fit(x,y)\n",
    "asvc = svc.score(new_test,surv_table)\n",
    "print ('Accuracy of the model is:',round(asvc*100,2), 'Percent')"
   ]
  },
  {
   "cell_type": "markdown",
   "metadata": {
    "collapsed": false
   },
   "source": [
    "## decision tree"
   ]
  },
  {
   "cell_type": "code",
   "execution_count": 86,
   "metadata": {
    "collapsed": false
   },
   "outputs": [
    {
     "name": "stdout",
     "output_type": "stream",
     "text": [
      "Accuracy of the model is: 100.0 Percent\n"
     ]
    }
   ],
   "source": [
    "#na_train_x = np.array(train_df[['Pclass']])\n",
    "#na_train_y = np.array(train_df['Survived'])\n",
    "#na_test_x = np.array(test_df[['Pclass']])\n",
    "from sklearn.tree import DecisionTreeClassifier \n",
    "tree = DecisionTreeClassifier(criterion= 'entropy',splitter='random',max_features=None,max_depth=1,random_state=1)\n",
    "tree.fit(x,y)\n",
    "atree = tree.score(new_test,surv_table)\n",
    "print ('Accuracy of the model is:',round(atree*100,2), 'Percent')"
   ]
  },
  {
   "cell_type": "code",
   "execution_count": 85,
   "metadata": {
    "collapsed": false
   },
   "outputs": [
    {
     "name": "stdout",
     "output_type": "stream",
     "text": [
      "gini random log2 2 1 Score:  100.0\n",
      "gini random log2 2 6 Score:  100.0\n",
      "gini random log2 2 10 Score:  100.0\n",
      "gini random sqrt 2 1 Score:  100.0\n",
      "gini random sqrt 2 6 Score:  100.0\n",
      "gini random sqrt 2 10 Score:  100.0\n",
      "gini random auto 2 1 Score:  100.0\n",
      "gini random auto 2 6 Score:  100.0\n",
      "gini random auto 2 10 Score:  100.0\n",
      "gini best log2 2 6 Score:  100.0\n",
      "gini best sqrt 2 6 Score:  100.0\n",
      "gini best auto 2 6 Score:  100.0\n",
      "entropy random None 2 8 Score:  100.0\n",
      "entropy random log2 2 1 Score:  100.0\n",
      "entropy random log2 2 6 Score:  100.0\n",
      "entropy random log2 2 10 Score:  100.0\n",
      "entropy random sqrt 2 1 Score:  100.0\n",
      "entropy random sqrt 2 6 Score:  100.0\n",
      "entropy random sqrt 2 10 Score:  100.0\n",
      "entropy random auto 2 1 Score:  100.0\n",
      "entropy random auto 2 6 Score:  100.0\n",
      "entropy random auto 2 10 Score:  100.0\n",
      "entropy best log2 2 2 Score:  100.0\n",
      "entropy best log2 2 6 Score:  100.0\n",
      "entropy best sqrt 2 2 Score:  100.0\n",
      "entropy best sqrt 2 6 Score:  100.0\n",
      "entropy best auto 2 2 Score:  100.0\n",
      "entropy best auto 2 6 Score:  100.0\n"
     ]
    }
   ],
   "source": [
    "from sklearn.tree import DecisionTreeClassifier\n",
    "cri = ['gini','entropy']\n",
    "spp = ['random','best']\n",
    "max_fe =[None,'log2','sqrt','auto']\n",
    "rs_de = [1,2,3,4,5,6,7,8,9,10]\n",
    "#algo = ['ball_tree', 'kd_tree']\n",
    "#leaf = [10,20,30,250,300,400]\n",
    "#njob = [1,-1]\n",
    "#score =[]\n",
    "for a in cri:\n",
    "    for b in spp:\n",
    "        for c in max_fe:\n",
    "            for d in rs_de:\n",
    "                df = DecisionTreeClassifier(criterion=a,splitter=b,max_features=c,max_depth=2,random_state=d)\n",
    "                df.fit(x,y)\n",
    "                acc = df.score(new_test,surv_table)\n",
    "                #score.append(df.score(new_test,surv_table))\n",
    "                if (acc >=0.9999):\n",
    "                    print (a,b,c,'2',d,'Score: ',round(acc*100,2))\n",
    "\n",
    "#plt.plot(njob,score)\n",
    "#plt.hlines(xmax=26,xmin=-1,linestyles='solid',y=np.max(score),colors='r')\n",
    "#plt.show()    "
   ]
  },
  {
   "cell_type": "markdown",
   "metadata": {},
   "source": [
    "## Bays theorem"
   ]
  },
  {
   "cell_type": "code",
   "execution_count": 87,
   "metadata": {
    "collapsed": false
   },
   "outputs": [
    {
     "name": "stdout",
     "output_type": "stream",
     "text": [
      "Accuracy of the model is: 96.65 Percent\n"
     ]
    }
   ],
   "source": [
    "#na_train_x = np.array(train_df[['Pclass']])\n",
    "#na_train_y = np.array(train_df['Survived'])\n",
    "#na_test_x = np.array(test_df[['Pclass']])\n",
    "from sklearn.naive_bayes import GaussianNB\n",
    "gaus = GaussianNB() \n",
    "gaus.fit(x,y)\n",
    "agaus = gaus.score(new_test,surv_table)\n",
    "print ('Accuracy of the model is:',round(agaus*100,2), 'Percent')"
   ]
  },
  {
   "cell_type": "markdown",
   "metadata": {},
   "source": [
    "## Perceptron"
   ]
  },
  {
   "cell_type": "code",
   "execution_count": 43,
   "metadata": {
    "collapsed": false
   },
   "outputs": [
    {
     "name": "stdout",
     "output_type": "stream",
     "text": [
      "Accuracy of the model is: 91.63 Percent\n"
     ]
    }
   ],
   "source": [
    "from sklearn.linear_model import Perceptron\n",
    "per = Perceptron()\n",
    "per.fit(x,y)\n",
    "aper = per.score(new_test,surv_table)\n",
    "print ('Accuracy of the model is:',round(aper*100,2), 'Percent')"
   ]
  },
  {
   "cell_type": "markdown",
   "metadata": {},
   "source": [
    "## Linear SVC"
   ]
  },
  {
   "cell_type": "code",
   "execution_count": 44,
   "metadata": {
    "collapsed": false
   },
   "outputs": [
    {
     "name": "stdout",
     "output_type": "stream",
     "text": [
      "Accuracy of the model is: 91.63 Percent\n"
     ]
    }
   ],
   "source": [
    "from sklearn import svm \n",
    "LSVC = svm.LinearSVC()\n",
    "LSVC.fit(x,y)\n",
    "aLSVC = per.score(new_test,surv_table)\n",
    "print ('Accuracy of the model is:',round(aLSVC*100,2), 'Percent')"
   ]
  },
  {
   "cell_type": "markdown",
   "metadata": {},
   "source": [
    "## stochastic gradient descent"
   ]
  },
  {
   "cell_type": "code",
   "execution_count": 45,
   "metadata": {
    "collapsed": false
   },
   "outputs": [
    {
     "name": "stdout",
     "output_type": "stream",
     "text": [
      "Accuracy of the model is: 91.63 Percent\n"
     ]
    }
   ],
   "source": [
    "from sklearn.linear_model import SGDClassifier\n",
    "SGDC = SGDClassifier()\n",
    "SGDC.fit(x,y)\n",
    "aSGDC = per.score(new_test,surv_table)\n",
    "print ('Accuracy of the model is:',round(aSGDC*100,2), 'Percent')"
   ]
  },
  {
   "cell_type": "markdown",
   "metadata": {},
   "source": [
    "## Random Forest"
   ]
  },
  {
   "cell_type": "code",
   "execution_count": 162,
   "metadata": {
    "collapsed": false
   },
   "outputs": [
    {
     "name": "stdout",
     "output_type": "stream",
     "text": [
      "Accuracy of the model is: 95.22 Percent\n"
     ]
    }
   ],
   "source": [
    "from sklearn.ensemble import RandomForestClassifier\n",
    "rand = RandomForestClassifier(n_estimators=10,random_state=3,criterion='gini',max_features=None,max_depth=1,n_jobs=1)\n",
    "rand.fit(x,y)\n",
    "arand = rand.score(new_test,surv_table)\n",
    "print ('Accuracy of the model is:',round(arand*100,2), 'Percent')"
   ]
  },
  {
   "cell_type": "code",
   "execution_count": null,
   "metadata": {
    "collapsed": true
   },
   "outputs": [],
   "source": []
  },
  {
   "cell_type": "code",
   "execution_count": 159,
   "metadata": {
    "collapsed": false
   },
   "outputs": [
    {
     "name": "stdout",
     "output_type": "stream",
     "text": [
      "10 loops, best of 3: 58.4 ms per loop\n"
     ]
    }
   ],
   "source": [
    "%%timeit\n",
    "#ne = [10,20,30,100,200,300,500,1000]\n",
    "#cri = ['gini','entropy']\n",
    "#max_fe = [None,'log2','sqrt','auto']\n",
    "#max_de = [1,2,3,4,5,6,7,8,9,10]\n",
    "#rs =[1,2,3,4,5,6,7,8,9,10]\n",
    "#bs = [True,False]\n",
    "#man_lf =[2,3,4,5,6,7,8,9,10,11,12,13,14]\n",
    "nj = [1]\n",
    "score =[]\n",
    "for a in nj:\n",
    "    from sklearn.ensemble import RandomForestClassifier\n",
    "    rand = RandomForestClassifier(random_state=3,n_estimators=10,criterion='gini',max_features=None,max_depth=1,n_jobs=a)\n",
    "    rand.fit(x,y)\n",
    "    arand = rand.score(new_test,surv_table)\n",
    "    #print (a,'score:',round (arand*100,2))\n",
    "    #score.append(rand.score(new_test,surv_table))\n",
    "    \n",
    "#plt.plot(ne,score)    \n",
    "#plt.show()\n",
    "    "
   ]
  },
  {
   "cell_type": "code",
   "execution_count": 25,
   "metadata": {
    "collapsed": false
   },
   "outputs": [
    {
     "data": {
      "text/plain": [
       "[10, 20, 50, 100, 200, 500, 1000]"
      ]
     },
     "execution_count": 25,
     "metadata": {},
     "output_type": "execute_result"
    }
   ],
   "source": []
  }
 ],
 "metadata": {
  "kernelspec": {
   "display_name": "Python 3",
   "language": "python",
   "name": "python3"
  },
  "language_info": {
   "codemirror_mode": {
    "name": "ipython",
    "version": 3
   },
   "file_extension": ".py",
   "mimetype": "text/x-python",
   "name": "python",
   "nbconvert_exporter": "python",
   "pygments_lexer": "ipython3",
   "version": "3.6.0"
  }
 },
 "nbformat": 4,
 "nbformat_minor": 2
}
