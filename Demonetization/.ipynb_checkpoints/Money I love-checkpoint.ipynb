{
 "cells": [
  {
   "cell_type": "code",
   "execution_count": 1,
   "metadata": {
    "collapsed": true
   },
   "outputs": [],
   "source": [
    "import pandas as pd\n",
    "import numpy as np\n",
    "import seaborn as sns\n",
    "import matplotlib.pyplot as plt"
   ]
  },
  {
   "cell_type": "code",
   "execution_count": 36,
   "metadata": {
    "collapsed": false
   },
   "outputs": [],
   "source": [
    "tweets = pd.read_csv('demonetization-tweets.csv', encoding='latin1')\n",
    "pd.set_option('display.max_colwidth', -1)\n",
    "#--------------#-------------------------#------------------------#-------------------------\n",
    "tweets = tweets.drop(['Unnamed: 0','X','replyToSN','replyToSID','id','replyToUID'],axis=1)\n",
    "#----------------------------------------------------------\n",
    "tweets['Text_os'] = ''\n",
    "tweets['Text_os'] = tweets['text'].str.extract('(@\\w{0,})',expand = False)\n",
    "tweets['Text_os'] = tweets['Text_os'].str.strip('@')\n",
    "tweets['Text_os'] = tweets['Text_os'].fillna(0)\n",
    "tweets['Text_os'] = tweets['Text_os'].replace('@',0) \n",
    "#----------------------------------------------------------------------------------------\n",
    "tweets['isRetweet'] = tweets['isRetweet']*1\n",
    "tweets['retweeted'] = tweets['retweeted']*1\n",
    "tweets['truncated'] = tweets['truncated']*1\n",
    "tweets['favorited'] = tweets['favorited']*1\n",
    "#------------------------------------------------------------------------\n",
    "tweets['Phone_use'] = tweets['statusSource'].str.extract('([A-Za-z]+\\<)', expand = False)\n",
    "tweets['Phone_use'] = tweets['Phone_use'].str.extract('([A-Za-z]+)', expand = True)\n",
    "\n",
    "replace_words =['CPIMBadli','Facebook','SocialNewsXYZ','Instagram',\n",
    "'AI','NGO','Junction', 'Dabr', 'RealEstateBot', 'Studio', 'Singapore', 'Buzz',\n",
    "'TwitterTrafficMachine', 'Klout', 'trump', 'Big', 'Twitterrific','Lite','growth', 'Post', 'co', 'YoruFukurou', 'cmssocialservice','IFTTT', 'TweetDeck', 'Hootsuite', 'RoundTeam', 'Google','com', 'Drivespark', 'it', 'Social', 'Buffer','Ads', 'HubSpot','GrabInbox', 'MetroTwit', 'Widget', 'HeaderLabs', 'LinkedIn',\n",
    " 'cryptohawk', 'Update', 'bitcoinagile', 'iOS', 'IEFX', 'li','TwixxyBot', 'bot', 'Echofon', 'Nuzzel', 'App', 'SCBotBackend',\n",
    " 'easypybot', 'PostBeyond', 'Sprinklr', 'agileminderbot','Publisher', 'Quora', 'IEHIAutoPost', 'Pluggio', 'OccuWorld',\n",
    "'SocioAdvocacy', 'Edgar', 'InvestmentWatch', 'Countdown', 'Tweets','Willow', 'Customer', 'app', 'AgendaOfEvil', 'StockmarketStar',\n",
    "'BotByROP', 'salutcavaouiettoibienoubien', 'BitcoinBtcNews',\n",
    "'retweet', 'mounds', 'VoiceStorm', 'php', 'tweethunk', 'petyushin',\n",
    "'Conversocial', 'TwitBot', 'Jr', 'IT', 'SocialFlow', 'News',\n",
    "'Peregrine', 'NetCatNews', 'in', 'CoSchedule', 'Integration',\n",
    "'ebooks','SocialOomph','Twitter']\n",
    "\n",
    "tweets['Phone_use'] = tweets['Phone_use'].replace([replace_words],'Other')\n",
    "tweets['Phone_use'] = tweets['Phone_use'].replace(['Phone','Windows'],'Windows_Phone')\n",
    "tweets['Phone_use'] = tweets['Phone_use'].replace(['iPhone','iPad','Mac','i'],'Apple_Phone')\n",
    "tweets['Phone_use'] = tweets['Phone_use'].replace('BlackBerry','BlackBerry_Phone')\n",
    "tweets['Phone_use'] = tweets['Phone_use'].replace('Client','via_website')\n",
    "tweets['Phone_use'] = tweets['Phone_use'].fillna('Other')\n",
    "#-----------------------------------------------------------------------------------------------"
   ]
  },
  {
   "cell_type": "code",
   "execution_count": 39,
   "metadata": {
    "collapsed": false
   },
   "outputs": [],
   "source": [
    "phones = ['Android','BlackBerry_Phone','Other', 'via_website', 'Apple_Phone', 'Windows_Phone']\n",
    "count = []\n",
    "for i in phones:\n",
    "    k = tweets[tweets['Phone_use'] == i]\n",
    "    j = k.Phone_use.count()\n",
    "    count.append(j)\n",
    "\n",
    "perc = []\n",
    "numb = [0,1,2,3,4,5]\n",
    "for i in numb:\n",
    "    p = (count[i]/(count[0] +count[1]+count[2]+count[3]+count[4]+count[5]))*100\n",
    "    perc.append(p)\n",
    "    \n",
    "perc_new = []\n",
    "for i in perc:\n",
    "    k = \"%.2f\" % i\n",
    "    perc_new.append(k)"
   ]
  },
  {
   "cell_type": "code",
   "execution_count": 40,
   "metadata": {
    "collapsed": false
   },
   "outputs": [
    {
     "data": {
      "text/plain": [
       "<matplotlib.figure.Figure at 0x95265f8>"
      ]
     },
     "metadata": {},
     "output_type": "display_data"
    },
    {
     "data": {
      "image/png": "[encoded data removed]",
      "text/plain": [
       "<matplotlib.figure.Figure at 0xaa6eeb8>"
      ]
     },
     "metadata": {},
     "output_type": "display_data"
    }
   ],
   "source": [
    "labels = 'Android','BlackBerry','Other', 'Website', 'Apple', 'Windows'\n",
    "sizes = perc_new\n",
    "explode = (0.1, 0, 0, 0, 0, 0)\n",
    "\n",
    "plt.figure(figsize=[20,10])\n",
    "fig1, ax1 = plt.subplots()\n",
    "ax1.pie(sizes, explode=explode, labels=labels, autopct='%1.2f%%',shadow=False, startangle=90)\n",
    "#ax1.axis('equal')\n",
    "\n",
    "plt.show()"
   ]
  },
  {
   "cell_type": "code",
   "execution_count": 41,
   "metadata": {
    "collapsed": false
   },
   "outputs": [],
   "source": [
    "tweets['Date'] = tweets['created'].str.extract('(-..)', expand = False)\n",
    "tweets['Date'] = tweets['Date'].str.strip('-')\n",
    "tweets['Date'] = tweets['Date'].replace('11', 'Nov')\n",
    "tweets['Date'] = tweets['Date'].replace('04', 'Apr')"
   ]
  },
  {
   "cell_type": "code",
   "execution_count": 42,
   "metadata": {
    "collapsed": false
   },
   "outputs": [
    {
     "data": {
      "text/plain": [
       "array(['Nov', 'Apr'], dtype=object)"
      ]
     },
     "execution_count": 42,
     "metadata": {},
     "output_type": "execute_result"
    }
   ],
   "source": [
    "tweets.Date.unique()"
   ]
  },
  {
   "cell_type": "code",
   "execution_count": 50,
   "metadata": {
    "collapsed": false
   },
   "outputs": [
    {
     "data": {
      "text/html": [
       "<div>\n",
       "<table border=\"1\" class=\"dataframe\">\n",
       "  <thead>\n",
       "    <tr style=\"text-align: right;\">\n",
       "      <th></th>\n",
       "      <th>text</th>\n",
       "      <th>favorited</th>\n",
       "      <th>favoriteCount</th>\n",
       "      <th>created</th>\n",
       "      <th>truncated</th>\n",
       "      <th>statusSource</th>\n",
       "      <th>screenName</th>\n",
       "      <th>retweetCount</th>\n",
       "      <th>isRetweet</th>\n",
       "      <th>retweeted</th>\n",
       "      <th>Text_os</th>\n",
       "      <th>Phone_use</th>\n",
       "      <th>Date</th>\n",
       "    </tr>\n",
       "  </thead>\n",
       "  <tbody>\n",
       "    <tr>\n",
       "      <th>0</th>\n",
       "      <td>RT @rssurjewala: Critical question: Was PayTM informed about #Demonetization edict by PM? It's clearly fishy and requires full disclosure &amp;amp;</td>\n",
       "      <td>0</td>\n",
       "      <td>0</td>\n",
       "      <td>2016-11-23 18:40:30</td>\n",
       "      <td>0</td>\n",
       "      <td>&lt;a href=\"http://twitter.com/download/android\" rel=\"nofollow\"&gt;Twitter for Android&lt;/a&gt;</td>\n",
       "      <td>HASHTAGFARZIWAL</td>\n",
       "      <td>331</td>\n",
       "      <td>1</td>\n",
       "      <td>0</td>\n",
       "      <td>rssurjewala</td>\n",
       "      <td>Android</td>\n",
       "      <td>Nov</td>\n",
       "    </tr>\n",
       "    <tr>\n",
       "      <th>1</th>\n",
       "      <td>RT @Hemant_80: Did you vote on #Demonetization on Modi survey app?</td>\n",
       "      <td>0</td>\n",
       "      <td>0</td>\n",
       "      <td>2016-11-23 18:40:29</td>\n",
       "      <td>0</td>\n",
       "      <td>&lt;a href=\"http://twitter.com/download/android\" rel=\"nofollow\"&gt;Twitter for Android&lt;/a&gt;</td>\n",
       "      <td>PRAMODKAUSHIK9</td>\n",
       "      <td>66</td>\n",
       "      <td>1</td>\n",
       "      <td>0</td>\n",
       "      <td>Hemant_80</td>\n",
       "      <td>Android</td>\n",
       "      <td>Nov</td>\n",
       "    </tr>\n",
       "    <tr>\n",
       "      <th>2</th>\n",
       "      <td>RT @roshankar: Former FinSec, RBI Dy Governor, CBDT Chair + Harvard Professor lambaste #Demonetization.\\r\\n\\r\\nIf not for Aam Aadmi, listen to th</td>\n",
       "      <td>0</td>\n",
       "      <td>0</td>\n",
       "      <td>2016-11-23 18:40:03</td>\n",
       "      <td>0</td>\n",
       "      <td>&lt;a href=\"http://twitter.com/download/android\" rel=\"nofollow\"&gt;Twitter for Android&lt;/a&gt;</td>\n",
       "      <td>rahulja13034944</td>\n",
       "      <td>12</td>\n",
       "      <td>1</td>\n",
       "      <td>0</td>\n",
       "      <td>roshankar</td>\n",
       "      <td>Android</td>\n",
       "      <td>Nov</td>\n",
       "    </tr>\n",
       "    <tr>\n",
       "      <th>3</th>\n",
       "      <td>RT @ANI_news: Gurugram (Haryana): Post office employees provide cash exchange to patients in hospitals #demonetization https://t.co/uGMxUP9</td>\n",
       "      <td>0</td>\n",
       "      <td>0</td>\n",
       "      <td>2016-11-23 18:39:59</td>\n",
       "      <td>0</td>\n",
       "      <td>&lt;a href=\"http://twitter.com/download/android\" rel=\"nofollow\"&gt;Twitter for Android&lt;/a&gt;</td>\n",
       "      <td>deeptiyvd</td>\n",
       "      <td>338</td>\n",
       "      <td>1</td>\n",
       "      <td>0</td>\n",
       "      <td>ANI_news</td>\n",
       "      <td>Android</td>\n",
       "      <td>Nov</td>\n",
       "    </tr>\n",
       "    <tr>\n",
       "      <th>4</th>\n",
       "      <td>RT @satishacharya: Reddy Wedding! @mail_today cartoon #demonetization #ReddyWedding https://t.co/u7gLNrq31F</td>\n",
       "      <td>0</td>\n",
       "      <td>0</td>\n",
       "      <td>2016-11-23 18:39:39</td>\n",
       "      <td>0</td>\n",
       "      <td>&lt;a href=\"http://cpimharyana.com\" rel=\"nofollow\"&gt;CPIMBadli&lt;/a&gt;</td>\n",
       "      <td>CPIMBadli</td>\n",
       "      <td>120</td>\n",
       "      <td>1</td>\n",
       "      <td>0</td>\n",
       "      <td>satishacharya</td>\n",
       "      <td>Other</td>\n",
       "      <td>Nov</td>\n",
       "    </tr>\n",
       "    <tr>\n",
       "      <th>5</th>\n",
       "      <td>@DerekScissors1: Indias #demonetization: #Blackmoney a symptom, not the disease https://t.co/HSl6Ihj0Qe via @ambazaarmag</td>\n",
       "      <td>0</td>\n",
       "      <td>0</td>\n",
       "      <td>2016-11-23 18:39:11</td>\n",
       "      <td>0</td>\n",
       "      <td>&lt;a href=\"http://twitter.com\" rel=\"nofollow\"&gt;Twitter Web Client&lt;/a&gt;</td>\n",
       "      <td>ambazaarmag</td>\n",
       "      <td>0</td>\n",
       "      <td>0</td>\n",
       "      <td>0</td>\n",
       "      <td>DerekScissors1</td>\n",
       "      <td>via_website</td>\n",
       "      <td>Nov</td>\n",
       "    </tr>\n",
       "    <tr>\n",
       "      <th>6</th>\n",
       "      <td>RT @gauravcsawant: Rs 40 lakh looted from a bank in Kishtwar in J&amp;amp;K. Third such incident since #demonetization. That's how terrorists have</td>\n",
       "      <td>0</td>\n",
       "      <td>0</td>\n",
       "      <td>2016-11-23 18:38:53</td>\n",
       "      <td>0</td>\n",
       "      <td>&lt;a href=\"http://twitter.com/download/android\" rel=\"nofollow\"&gt;Twitter for Android&lt;/a&gt;</td>\n",
       "      <td>bhodia1</td>\n",
       "      <td>637</td>\n",
       "      <td>1</td>\n",
       "      <td>0</td>\n",
       "      <td>gauravcsawant</td>\n",
       "      <td>Android</td>\n",
       "      <td>Nov</td>\n",
       "    </tr>\n",
       "    <tr>\n",
       "      <th>7</th>\n",
       "      <td>RT @Joydeep_911: Calling all Nationalists to join...\\r\\nWalk for #CorruptionFreeIndia and spread the benefits of #Demonetization among the mas</td>\n",
       "      <td>0</td>\n",
       "      <td>0</td>\n",
       "      <td>2016-11-23 18:38:20</td>\n",
       "      <td>0</td>\n",
       "      <td>&lt;a href=\"http://twitter.com/download/android\" rel=\"nofollow\"&gt;Twitter for Android&lt;/a&gt;</td>\n",
       "      <td>KARUNASHANKEROJ</td>\n",
       "      <td>112</td>\n",
       "      <td>1</td>\n",
       "      <td>0</td>\n",
       "      <td>Joydeep_911</td>\n",
       "      <td>Android</td>\n",
       "      <td>Nov</td>\n",
       "    </tr>\n",
       "    <tr>\n",
       "      <th>8</th>\n",
       "      <td>RT @sumitbhati2002: Many opposition leaders are with @narendramodi on the #Demonetization \\r\\nAnd respect their decision,but support oppositio</td>\n",
       "      <td>0</td>\n",
       "      <td>0</td>\n",
       "      <td>2016-11-23 18:38:09</td>\n",
       "      <td>0</td>\n",
       "      <td>&lt;a href=\"http://twitter.com/download/android\" rel=\"nofollow\"&gt;Twitter for Android&lt;/a&gt;</td>\n",
       "      <td>sumitbhati2002</td>\n",
       "      <td>1</td>\n",
       "      <td>1</td>\n",
       "      <td>0</td>\n",
       "      <td>sumitbhati2002</td>\n",
       "      <td>Android</td>\n",
       "      <td>Nov</td>\n",
       "    </tr>\n",
       "    <tr>\n",
       "      <th>9</th>\n",
       "      <td>National reform now destroyed even the essence of sagan. Such instances urge giving #demonetization a second though",
       " https://t.co/eyySIREiUq</td>\n",
       "      <td>0</td>\n",
       "      <td>0</td>\n",
       "      <td>2016-11-23 18:38:00</td>\n",
       "      <td>1</td>\n",
       "      <td>&lt;a href=\"https://mobile.twitter.com\" rel=\"nofollow\"&gt;Mobile Web (M5)&lt;/a&gt;</td>\n",
       "      <td>HelpIndia2016</td>\n",
       "      <td>0</td>\n",
       "      <td>0</td>\n",
       "      <td>0</td>\n",
       "      <td>0</td>\n",
       "      <td>Other</td>\n",
       "      <td>Nov</td>\n",
       "    </tr>\n",
       "  </tbody>\n",
       "</table>\n",
       "</div>"
      ],
      "text/plain": [
       "                                                                                                                                                 text  \\\n",
       "0  RT @rssurjewala: Critical question: Was PayTM informed about #Demonetization edict by PM? It's clearly fishy and requires full disclosure &amp;\n",
       "     \n",
       "1  RT @Hemant_80: Did you vote on #Demonetization on Modi survey app?                                                                                   \n",
       "2  RT @roshankar: Former FinSec, RBI Dy Governor, CBDT Chair + Harvard Professor lambaste #Demonetization.\\r\\n\\r\\nIf not for Aam Aadmi, listen to th\n",
       "   \n",
       "3  RT @ANI_news: Gurugram (Haryana): Post office employees provide cash exchange to patients in hospitals #demonetization https://t.co/uGMxUP9\n",
       "         \n",
       "4  RT @satishacharya: Reddy Wedding! @mail_today cartoon #demonetization #ReddyWedding https://t.co/u7gLNrq31F                                          \n",
       "5  @DerekScissors1: Indias #demonetization: #Blackmoney a symptom, not the disease https://t.co/HSl6Ihj0Qe via @ambazaarmag                            \n",
       "6  RT @gauravcsawant: Rs 40 lakh looted from a bank in Kishtwar in J&amp;K. Third such incident since #demonetization. That's how terrorists have\n",
       "      \n",
       "7  RT @Joydeep_911: Calling all Nationalists to join...\\r\\nWalk for #CorruptionFreeIndia and spread the benefits of #Demonetization among the mas\n",
       "      \n",
       "8  RT @sumitbhati2002: Many opposition leaders are with @narendramodi on the #Demonetization \\r\\nAnd respect their decision,but support oppositio\n",
       "      \n",
       "9  National reform now destroyed even the essence of sagan. Such instances urge giving #demonetization a second though\n",
       " https://t.co/eyySIREiUq         \n",
       "\n",
       "   favorited  favoriteCount              created  truncated  \\\n",
       "0  0          0              2016-11-23 18:40:30  0           \n",
       "1  0          0              2016-11-23 18:40:29  0           \n",
       "2  0          0              2016-11-23 18:40:03  0           \n",
       "3  0          0              2016-11-23 18:39:59  0           \n",
       "4  0          0              2016-11-23 18:39:39  0           \n",
       "5  0          0              2016-11-23 18:39:11  0           \n",
       "6  0          0              2016-11-23 18:38:53  0           \n",
       "7  0          0              2016-11-23 18:38:20  0           \n",
       "8  0          0              2016-11-23 18:38:09  0           \n",
       "9  0          0              2016-11-23 18:38:00  1           \n",
       "\n",
       "                                                                           statusSource  \\\n",
       "0  <a href=\"http://twitter.com/download/android\" rel=\"nofollow\">Twitter for Android</a>   \n",
       "1  <a href=\"http://twitter.com/download/android\" rel=\"nofollow\">Twitter for Android</a>   \n",
       "2  <a href=\"http://twitter.com/download/android\" rel=\"nofollow\">Twitter for Android</a>   \n",
       "3  <a href=\"http://twitter.com/download/android\" rel=\"nofollow\">Twitter for Android</a>   \n",
       "4  <a href=\"http://cpimharyana.com\" rel=\"nofollow\">CPIMBadli</a>                          \n",
       "5  <a href=\"http://twitter.com\" rel=\"nofollow\">Twitter Web Client</a>                     \n",
       "6  <a href=\"http://twitter.com/download/android\" rel=\"nofollow\">Twitter for Android</a>   \n",
       "7  <a href=\"http://twitter.com/download/android\" rel=\"nofollow\">Twitter for Android</a>   \n",
       "8  <a href=\"http://twitter.com/download/android\" rel=\"nofollow\">Twitter for Android</a>   \n",
       "9  <a href=\"https://mobile.twitter.com\" rel=\"nofollow\">Mobile Web (M5)</a>                \n",
       "\n",
       "        screenName  retweetCount  isRetweet  retweeted         Text_os  \\\n",
       "0  HASHTAGFARZIWAL  331           1          0          rssurjewala      \n",
       "1  PRAMODKAUSHIK9   66            1          0          Hemant_80        \n",
       "2  rahulja13034944  12            1          0          roshankar        \n",
       "3  deeptiyvd        338           1          0          ANI_news         \n",
       "4  CPIMBadli        120           1          0          satishacharya    \n",
       "5  ambazaarmag      0             0          0          DerekScissors1   \n",
       "6  bhodia1          637           1          0          gauravcsawant    \n",
       "7  KARUNASHANKEROJ  112           1          0          Joydeep_911      \n",
       "8  sumitbhati2002   1             1          0          sumitbhati2002   \n",
       "9  HelpIndia2016    0             0          0          0                \n",
       "\n",
       "     Phone_use Date  \n",
       "0  Android      Nov  \n",
       "1  Android      Nov  \n",
       "2  Android      Nov  \n",
       "3  Android      Nov  \n",
       "4  Other        Nov  \n",
       "5  via_website  Nov  \n",
       "6  Android      Nov  \n",
       "7  Android      Nov  \n",
       "8  Android      Nov  \n",
       "9  Other        Nov  "
      ]
     },
     "execution_count": 50,
     "metadata": {},
     "output_type": "execute_result"
    }
   ],
   "source": [
    "tweets.head(10)"
   ]
  },
  {
   "cell_type": "code",
   "execution_count": 47,
   "metadata": {
    "collapsed": false
   },
   "outputs": [
    {
     "name": "stdout",
     "output_type": "stream",
     "text": [
      "              Name  Total_tweets\n",
      "0   narendramodi    100         \n",
      "1   SushmaSwaraj    0           \n",
      "2   PMOIndia        19          \n",
      "3   RBI             5           \n",
      "4   arunjaitley     9           \n",
      "5   OfficeOfRG      5           \n",
      "6   ArvindKejriwal  29          \n",
      "7   MamataOfficial  6           \n",
      "8   SitaramYechury  2           \n",
      "9   FinMinIndia     1           \n",
      "10  DasShaktikanta  18          \n",
      "11  smritiirani     0           \n",
      "12  ShashiTharoor   147         \n"
     ]
    },
    {
     "data": {
      "image/png": "[encoded data removed]",
      "text/plain": [
       "<matplotlib.figure.Figure at 0xc290f98>"
      ]
     },
     "metadata": {},
     "output_type": "display_data"
    }
   ],
   "source": [
    "name =['narendramodi','SushmaSwaraj','PMOIndia','RBI','arunjaitley','OfficeOfRG',\n",
    "       'ArvindKejriwal','MamataOfficial','SitaramYechury','FinMinIndia','DasShaktikanta',\n",
    "       'smritiirani','ShashiTharoor']\n",
    "Total=[]\n",
    "for i in name:\n",
    "    name_find = tweets[(tweets['Text_os'] == i) & (tweets['Date'] == 'Nov')]\n",
    "    name_find_total = name_find.Text_os.count()\n",
    "    Total.append(name_find_total)\n",
    "##I dont know why I am not able to use 'name' and 'Total' directly. So I appended the same data in\n",
    "##new_name and new_total, its working fine.\n",
    "new_name = []\n",
    "new_total = []\n",
    "for i in name:\n",
    "    new_name.append(i)\n",
    "for k in Total:\n",
    "    new_total.append(k)\n",
    "#---------------Print the same----------------------------------\n",
    "d = {'Name' : pd.Series(new_name),\n",
    "    'Total_tweets': pd.Series(new_total)}\n",
    "df = pd.DataFrame(d)\n",
    "print (df)\n",
    "#---------------Plot the stuff-------------------------------\n",
    "plt.figure(figsize=[10,5])\n",
    "new_na = np.arange(len(new_name))\n",
    "plt.bar(new_na, new_total)\n",
    "plt.xticks(new_na, new_name, rotation = 90,size=15)\n",
    "plt.show()\n",
    "\n"
   ]
  },
  {
   "cell_type": "code",
   "execution_count": 48,
   "metadata": {
    "collapsed": false
   },
   "outputs": [
    {
     "data": {
      "image/png": "[encoded data removed]",
      "text/plain": [
       "<matplotlib.figure.Figure at 0xbd59278>"
      ]
     },
     "metadata": {},
     "output_type": "display_data"
    }
   ],
   "source": [
    "sns.countplot(x= 'Date', data = tweets)\n",
    "plt.show()"
   ]
  }
 ],
 "metadata": {
  "kernelspec": {
   "display_name": "Python 3",
   "language": "python",
   "name": "python3"
  },
  "language_info": {
   "codemirror_mode": {
    "name": "ipython",
    "version": 3
   },
   "file_extension": ".py",
   "mimetype": "text/x-python",
   "name": "python",
   "nbconvert_exporter": "python",
   "pygments_lexer": "ipython3",
   "version": "3.6.0"
  }
 },
 "nbformat": 4,
 "nbformat_minor": 2
}
